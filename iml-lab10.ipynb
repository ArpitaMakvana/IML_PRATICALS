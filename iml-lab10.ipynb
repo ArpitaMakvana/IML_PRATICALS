{
 "cells": [
  {
   "cell_type": "code",
   "execution_count": 1,
   "id": "debf2d57",
   "metadata": {
    "_cell_guid": "b1076dfc-b9ad-4769-8c92-a6c4dae69d19",
    "_uuid": "8f2839f25d086af736a60e9eeb907d3b93b6e0e5",
    "execution": {
     "iopub.execute_input": "2023-11-07T11:56:15.056851Z",
     "iopub.status.busy": "2023-11-07T11:56:15.055907Z",
     "iopub.status.idle": "2023-11-07T11:56:15.488615Z",
     "shell.execute_reply": "2023-11-07T11:56:15.487359Z"
    },
    "papermill": {
     "duration": 0.440629,
     "end_time": "2023-11-07T11:56:15.491573",
     "exception": false,
     "start_time": "2023-11-07T11:56:15.050944",
     "status": "completed"
    },
    "tags": []
   },
   "outputs": [
    {
     "name": "stdout",
     "output_type": "stream",
     "text": [
      "/kaggle/input/titanic/train_and_test2.csv\n"
     ]
    }
   ],
   "source": [
    "# This Python 3 environment comes with many helpful analytics libraries installed\n",
    "# It is defined by the kaggle/python Docker image: https://github.com/kaggle/docker-python\n",
    "# For example, here's several helpful packages to load\n",
    "\n",
    "import numpy as np # linear algebra\n",
    "import pandas as pd # data processing, CSV file I/O (e.g. pd.read_csv)\n",
    "\n",
    "# Input data files are available in the read-only \"../input/\" directory\n",
    "# For example, running this (by clicking run or pressing Shift+Enter) will list all files under the input directory\n",
    "\n",
    "import os\n",
    "for dirname, _, filenames in os.walk('/kaggle/input'):\n",
    "    for filename in filenames:\n",
    "        print(os.path.join(dirname, filename))\n",
    "\n",
    "# You can write up to 20GB to the current directory (/kaggle/working/) that gets preserved as output when you create a version using \"Save & Run All\" \n",
    "# You can also write temporary files to /kaggle/temp/, but they won't be saved outside of the current session"
   ]
  },
  {
   "cell_type": "code",
   "execution_count": 2,
   "id": "e62b2a8f",
   "metadata": {
    "execution": {
     "iopub.execute_input": "2023-11-07T11:56:15.500280Z",
     "iopub.status.busy": "2023-11-07T11:56:15.499781Z",
     "iopub.status.idle": "2023-11-07T11:56:15.539337Z",
     "shell.execute_reply": "2023-11-07T11:56:15.538169Z"
    },
    "papermill": {
     "duration": 0.047714,
     "end_time": "2023-11-07T11:56:15.542032",
     "exception": false,
     "start_time": "2023-11-07T11:56:15.494318",
     "status": "completed"
    },
    "tags": []
   },
   "outputs": [
    {
     "name": "stdout",
     "output_type": "stream",
     "text": [
      "Filtered Columns:\n",
      "   C\n",
      "0  1\n",
      "1  2\n",
      "2  3\n",
      "3  4\n",
      "4  5\n",
      "5  6\n",
      "\n",
      "Rows with NaN:\n",
      "     A    B  C\n",
      "0  1.0  NaN  1\n",
      "2  3.0  NaN  3\n",
      "3  NaN  4.0  4\n",
      "4  5.0  NaN  5\n",
      "\n",
      "Columns with NaN:\n",
      "['A', 'B']\n",
      "\n",
      "Cleaned Dataset (dropped rows with any NaNs):\n",
      "     A    B  C\n",
      "1  2.0  2.0  2\n",
      "5  6.0  6.0  6\n"
     ]
    }
   ],
   "source": [
    "import pandas as pd\n",
    "import numpy as np\n",
    "\n",
    "# Sample dataset with missing values\n",
    "data = {\n",
    "    'A': [1, 2, 3, None, 5, 6],\n",
    "    'B': [None, 2, None, 4, None, 6],\n",
    "    'C': [1, 2, 3, 4, 5, 6],\n",
    "}\n",
    "\n",
    "df = pd.DataFrame(data)\n",
    "\n",
    "# Filter columns with all entries present (no NaN)\n",
    "df_filtered = df.dropna(axis=1, how='any')\n",
    "\n",
    "# Check which rows and columns have NaN\n",
    "rows_with_nan = df[df.isna().any(axis=1)]\n",
    "columns_with_nan = df.columns[df.isna().any()].tolist()\n",
    "\n",
    "# Drop rows with any NaNs\n",
    "df_cleaned = df.dropna()\n",
    "\n",
    "print(\"Filtered Columns:\")\n",
    "print(df_filtered)\n",
    "\n",
    "print(\"\\nRows with NaN:\")\n",
    "print(rows_with_nan)\n",
    "\n",
    "print(\"\\nColumns with NaN:\")\n",
    "print(columns_with_nan)\n",
    "\n",
    "print(\"\\nCleaned Dataset (dropped rows with any NaNs):\")\n",
    "print(df_cleaned)\n"
   ]
  },
  {
   "cell_type": "code",
   "execution_count": null,
   "id": "799fa9f6",
   "metadata": {
    "papermill": {
     "duration": 0.002347,
     "end_time": "2023-11-07T11:56:15.547090",
     "exception": false,
     "start_time": "2023-11-07T11:56:15.544743",
     "status": "completed"
    },
    "tags": []
   },
   "outputs": [],
   "source": []
  },
  {
   "cell_type": "code",
   "execution_count": null,
   "id": "8b2cf684",
   "metadata": {
    "papermill": {
     "duration": 0.002224,
     "end_time": "2023-11-07T11:56:15.551865",
     "exception": false,
     "start_time": "2023-11-07T11:56:15.549641",
     "status": "completed"
    },
    "tags": []
   },
   "outputs": [],
   "source": []
  }
 ],
 "metadata": {
  "kernelspec": {
   "display_name": "Python 3",
   "language": "python",
   "name": "python3"
  },
  "language_info": {
   "codemirror_mode": {
    "name": "ipython",
    "version": 3
   },
   "file_extension": ".py",
   "mimetype": "text/x-python",
   "name": "python",
   "nbconvert_exporter": "python",
   "pygments_lexer": "ipython3",
   "version": "3.10.12"
  },
  "papermill": {
   "default_parameters": {},
   "duration": 4.632279,
   "end_time": "2023-11-07T11:56:15.974902",
   "environment_variables": {},
   "exception": null,
   "input_path": "__notebook__.ipynb",
   "output_path": "__notebook__.ipynb",
   "parameters": {},
   "start_time": "2023-11-07T11:56:11.342623",
   "version": "2.4.0"
  }
 },
 "nbformat": 4,
 "nbformat_minor": 5
}
