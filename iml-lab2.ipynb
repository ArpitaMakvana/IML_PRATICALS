{
 "cells": [
  {
   "cell_type": "code",
   "execution_count": 1,
   "id": "52e8bc23",
   "metadata": {
    "_cell_guid": "b1076dfc-b9ad-4769-8c92-a6c4dae69d19",
    "_uuid": "8f2839f25d086af736a60e9eeb907d3b93b6e0e5",
    "execution": {
     "iopub.execute_input": "2023-11-06T18:06:41.686927Z",
     "iopub.status.busy": "2023-11-06T18:06:41.686053Z",
     "iopub.status.idle": "2023-11-06T18:06:42.375721Z",
     "shell.execute_reply": "2023-11-06T18:06:42.374997Z"
    },
    "papermill": {
     "duration": 0.695712,
     "end_time": "2023-11-06T18:06:42.377918",
     "exception": false,
     "start_time": "2023-11-06T18:06:41.682206",
     "status": "completed"
    },
    "tags": []
   },
   "outputs": [],
   "source": [
    "# This Python 3 environment comes with many helpful analytics libraries installed\n",
    "# It is defined by the kaggle/python Docker image: https://github.com/kaggle/docker-python\n",
    "# For example, here's several helpful packages to load\n",
    "\n",
    "import numpy as np # linear algebra\n",
    "import pandas as pd # data processing, CSV file I/O (e.g. pd.read_csv)\n",
    "\n",
    "# Input data files are available in the read-only \"../input/\" directory\n",
    "# For example, running this (by clicking run or pressing Shift+Enter) will list all files under the input directory\n",
    "\n",
    "import os\n",
    "for dirname, _, filenames in os.walk('/kaggle/input'):\n",
    "    for filename in filenames:\n",
    "        print(os.path.join(dirname, filename))\n",
    "\n",
    "# You can write up to 20GB to the current directory (/kaggle/working/) that gets preserved as output when you create a version using \"Save & Run All\" \n",
    "# You can also write temporary files to /kaggle/temp/, but they won't be saved outside of the current session"
   ]
  },
  {
   "cell_type": "code",
   "execution_count": 2,
   "id": "f4c78d6b",
   "metadata": {
    "execution": {
     "iopub.execute_input": "2023-11-06T18:06:42.385606Z",
     "iopub.status.busy": "2023-11-06T18:06:42.384991Z",
     "iopub.status.idle": "2023-11-06T18:06:42.390262Z",
     "shell.execute_reply": "2023-11-06T18:06:42.389513Z"
    },
    "papermill": {
     "duration": 0.011989,
     "end_time": "2023-11-06T18:06:42.392161",
     "exception": false,
     "start_time": "2023-11-06T18:06:42.380172",
     "status": "completed"
    },
    "tags": []
   },
   "outputs": [
    {
     "name": "stdout",
     "output_type": "stream",
     "text": [
      "This is the original values [1, 2, 3, 4]\n",
      "This is the one-dimesional array [1, 2, 3, 4]\n"
     ]
    }
   ],
   "source": [
    "#lab-2\n",
    "#write a numpy program to implement following operations\n",
    "#to convert a list of numeric array values into one-dimensional array\n",
    "\n",
    "\n",
    "\n",
    "#Name:Arpita Makwana\n",
    "#Enrollnment no:216270307069\n",
    "\n",
    "\n",
    "import numpy as np\n",
    "list=[1,2,3,4]\n",
    "print(\"This is the original values\",list)\n",
    "list1=np.array(list)\n",
    "print(\"This is the one-dimesional array\",list)\n",
    "\n"
   ]
  },
  {
   "cell_type": "code",
   "execution_count": 3,
   "id": "a06c1a31",
   "metadata": {
    "execution": {
     "iopub.execute_input": "2023-11-06T18:06:42.397510Z",
     "iopub.status.busy": "2023-11-06T18:06:42.397180Z",
     "iopub.status.idle": "2023-11-06T18:06:42.406061Z",
     "shell.execute_reply": "2023-11-06T18:06:42.404761Z"
    },
    "papermill": {
     "duration": 0.014419,
     "end_time": "2023-11-06T18:06:42.408564",
     "exception": false,
     "start_time": "2023-11-06T18:06:42.394145",
     "status": "completed"
    },
    "tags": []
   },
   "outputs": [
    {
     "name": "stdout",
     "output_type": "stream",
     "text": [
      "b:\n",
      " [[10  2  3]\n",
      " [ 4  5  6]\n",
      " [ 7  8  9]]\n"
     ]
    }
   ],
   "source": [
    "#lab-2\n",
    "#write a numpy program to implement following operations\n",
    "#o create a 3x3 matrix with values ranging from 2 to 10\n",
    "\n",
    "#Name:Arpita Makwana\n",
    "#Enrollnment no:216270307069\n",
    "\n",
    "import numpy as np\n",
    "\n",
    "#create a array\n",
    "b = np.array([[10, 2, 3], [4, 5, 6], [7, 8, 9]])\n",
    "print(\"b:\\n\", b)"
   ]
  },
  {
   "cell_type": "code",
   "execution_count": 4,
   "id": "bb1b42ce",
   "metadata": {
    "execution": {
     "iopub.execute_input": "2023-11-06T18:06:42.414183Z",
     "iopub.status.busy": "2023-11-06T18:06:42.413891Z",
     "iopub.status.idle": "2023-11-06T18:06:42.419559Z",
     "shell.execute_reply": "2023-11-06T18:06:42.418496Z"
    },
    "papermill": {
     "duration": 0.011,
     "end_time": "2023-11-06T18:06:42.421770",
     "exception": false,
     "start_time": "2023-11-06T18:06:42.410770",
     "status": "completed"
    },
    "tags": []
   },
   "outputs": [
    {
     "name": "stdout",
     "output_type": "stream",
     "text": [
      "Before array [1 2 3]\n",
      "After array [1 2 3 4]\n"
     ]
    }
   ],
   "source": [
    "#lab-2\n",
    "#write a numpy program to implement following operations\n",
    "# to append values at the end of an array\n",
    "\n",
    "\n",
    "#Name:Arpita Makwana\n",
    "#Enrollnment no:216270307069\n",
    "\n",
    "import numpy as np\n",
    "\n",
    "#create a simple array\n",
    "a=np.array([1,2,3])\n",
    "print(\"Before array\",a)\n",
    "\n",
    "#append the array\n",
    "b=np.append(a,4)\n",
    "print(\"After array\",b)\n"
   ]
  },
  {
   "cell_type": "code",
   "execution_count": 5,
   "id": "e752c52e",
   "metadata": {
    "execution": {
     "iopub.execute_input": "2023-11-06T18:06:42.427759Z",
     "iopub.status.busy": "2023-11-06T18:06:42.427053Z",
     "iopub.status.idle": "2023-11-06T18:06:42.433820Z",
     "shell.execute_reply": "2023-11-06T18:06:42.432679Z"
    },
    "papermill": {
     "duration": 0.012213,
     "end_time": "2023-11-06T18:06:42.436193",
     "exception": false,
     "start_time": "2023-11-06T18:06:42.423980",
     "status": "completed"
    },
    "tags": []
   },
   "outputs": [
    {
     "name": "stdout",
     "output_type": "stream",
     "text": [
      "original array [[1 2]\n",
      " [4 5]\n",
      " [7 8]]\n",
      "Reshaped array [[1 2 4]\n",
      " [5 7 8]]\n"
     ]
    }
   ],
   "source": [
    "#lab-2\n",
    "#write a numpy program to implement following operations\n",
    "#to create another shape from an array without changing its data (3*2 to 2*3)\n",
    "\n",
    "#Name:Arpita Makwana\n",
    "#Enrollnment no:216270307069\n",
    "\n",
    "import numpy as np\n",
    "#create a 3*2 array\n",
    "a=np.array([[1,2],[4,5],[7,8]])\n",
    "\n",
    "#print the original array\n",
    "print(\"original array\",a)\n",
    "\n",
    "#create a 2*3 array\n",
    "b=a.reshape([2,3])\n",
    "\n",
    "#print the reshaped array\n",
    "print(\"Reshaped array\",b)\n",
    "\n"
   ]
  }
 ],
 "metadata": {
  "kernelspec": {
   "display_name": "Python 3",
   "language": "python",
   "name": "python3"
  },
  "language_info": {
   "codemirror_mode": {
    "name": "ipython",
    "version": 3
   },
   "file_extension": ".py",
   "mimetype": "text/x-python",
   "name": "python",
   "nbconvert_exporter": "python",
   "pygments_lexer": "ipython3",
   "version": "3.10.12"
  },
  "papermill": {
   "default_parameters": {},
   "duration": 3.913206,
   "end_time": "2023-11-06T18:06:42.756601",
   "environment_variables": {},
   "exception": null,
   "input_path": "__notebook__.ipynb",
   "output_path": "__notebook__.ipynb",
   "parameters": {},
   "start_time": "2023-11-06T18:06:38.843395",
   "version": "2.4.0"
  }
 },
 "nbformat": 4,
 "nbformat_minor": 5
}
