{
 "cells": [
  {
   "cell_type": "code",
   "execution_count": 1,
   "id": "de7d6a65",
   "metadata": {
    "_cell_guid": "b1076dfc-b9ad-4769-8c92-a6c4dae69d19",
    "_uuid": "8f2839f25d086af736a60e9eeb907d3b93b6e0e5",
    "execution": {
     "iopub.execute_input": "2023-11-08T09:09:41.163217Z",
     "iopub.status.busy": "2023-11-08T09:09:41.162151Z",
     "iopub.status.idle": "2023-11-08T09:09:42.036809Z",
     "shell.execute_reply": "2023-11-08T09:09:42.035683Z"
    },
    "papermill": {
     "duration": 0.88173,
     "end_time": "2023-11-08T09:09:42.039358",
     "exception": false,
     "start_time": "2023-11-08T09:09:41.157628",
     "status": "completed"
    },
    "tags": []
   },
   "outputs": [
    {
     "name": "stdout",
     "output_type": "stream",
     "text": [
      "/kaggle/input/gender-classification-dataset/gender_classification_v7.csv\n",
      "/kaggle/input/genderprediction/dataset.csv\n"
     ]
    }
   ],
   "source": [
    "# This Python 3 environment comes with many helpful analytics libraries installed\n",
    "# It is defined by the kaggle/python Docker image: https://github.com/kaggle/docker-python\n",
    "# For example, here's several helpful packages to load\n",
    "\n",
    "import numpy as np # linear algebra\n",
    "import pandas as pd # data processing, CSV file I/O (e.g. pd.read_csv)\n",
    "\n",
    "# Input data files are available in the read-only \"../input/\" directory\n",
    "# For example, running this (by clicking run or pressing Shift+Enter) will list all files under the input directory\n",
    "\n",
    "import os\n",
    "for dirname, _, filenames in os.walk('/kaggle/input'):\n",
    "    for filename in filenames:\n",
    "        print(os.path.join(dirname, filename))\n",
    "\n",
    "# You can write up to 20GB to the current directory (/kaggle/working/) that gets preserved as output when you create a version using \"Save & Run All\" \n",
    "# You can also write temporary files to /kaggle/temp/, but they won't be saved outside of the current session"
   ]
  },
  {
   "cell_type": "code",
   "execution_count": 2,
   "id": "b860e3f4",
   "metadata": {
    "execution": {
     "iopub.execute_input": "2023-11-08T09:09:42.049091Z",
     "iopub.status.busy": "2023-11-08T09:09:42.047946Z",
     "iopub.status.idle": "2023-11-08T09:09:44.070448Z",
     "shell.execute_reply": "2023-11-08T09:09:44.069055Z"
    },
    "papermill": {
     "duration": 2.031352,
     "end_time": "2023-11-08T09:09:44.073337",
     "exception": false,
     "start_time": "2023-11-08T09:09:42.041985",
     "status": "completed"
    },
    "tags": []
   },
   "outputs": [
    {
     "name": "stdout",
     "output_type": "stream",
     "text": [
      "Accuracy :  96.73550966022651\n"
     ]
    }
   ],
   "source": [
    "'''Name: Arpita Makwana\n",
    "   Enrollment no: 216270307069'''\n",
    "\n",
    "\n",
    "'''Write a Python program to implement K-Nearest Neighbour supervised\n",
    "machine learning algorithm for given dataset.'''\n",
    "\n",
    "\n",
    "\n",
    "# importing files\n",
    "import pandas as pd\n",
    "from sklearn.model_selection import train_test_split\n",
    "from sklearn.neighbors import KNeighborsClassifier\n",
    "\n",
    "# reading csv file\n",
    "data = pd.read_csv('/kaggle/input/gender-classification-dataset/gender_classification_v7.csv')\n",
    "# converting value of y from string to integer\n",
    "data.replace({'gender':{'Female':1,'Male':0}},inplace=True)\n",
    "data.head()\n",
    "\n",
    "# defining X and Y and spliting data set into train and test\n",
    "X=data.drop(columns=['gender'])\n",
    "Y=data['gender']\n",
    "x_train,x_test,y_train,y_test=train_test_split(X,Y,train_size=0.70,test_size=0.30,random_state=1)\n",
    "\n",
    "# calling fit function \n",
    "model=KNeighborsClassifier()\n",
    "model.fit(x_train,y_train)\n",
    "\n",
    "# finding accuracy of the trained model \n",
    "print(\"Accuracy : \", model.score(x_test,y_test) * 100)\n",
    "\n",
    "\n"
   ]
  },
  {
   "cell_type": "code",
   "execution_count": null,
   "id": "68a7541a",
   "metadata": {
    "papermill": {
     "duration": 0.002068,
     "end_time": "2023-11-08T09:09:44.077928",
     "exception": false,
     "start_time": "2023-11-08T09:09:44.075860",
     "status": "completed"
    },
    "tags": []
   },
   "outputs": [],
   "source": []
  }
 ],
 "metadata": {
  "kernelspec": {
   "display_name": "Python 3",
   "language": "python",
   "name": "python3"
  },
  "language_info": {
   "codemirror_mode": {
    "name": "ipython",
    "version": 3
   },
   "file_extension": ".py",
   "mimetype": "text/x-python",
   "name": "python",
   "nbconvert_exporter": "python",
   "pygments_lexer": "ipython3",
   "version": "3.10.12"
  },
  "papermill": {
   "default_parameters": {},
   "duration": 8.434787,
   "end_time": "2023-11-08T09:09:44.701393",
   "environment_variables": {},
   "exception": null,
   "input_path": "__notebook__.ipynb",
   "output_path": "__notebook__.ipynb",
   "parameters": {},
   "start_time": "2023-11-08T09:09:36.266606",
   "version": "2.4.0"
  }
 },
 "nbformat": 4,
 "nbformat_minor": 5
}
