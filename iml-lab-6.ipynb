{
 "cells": [
  {
   "cell_type": "code",
   "execution_count": 1,
   "id": "7804af94",
   "metadata": {
    "_cell_guid": "b1076dfc-b9ad-4769-8c92-a6c4dae69d19",
    "_uuid": "8f2839f25d086af736a60e9eeb907d3b93b6e0e5",
    "execution": {
     "iopub.execute_input": "2023-11-07T10:35:11.482717Z",
     "iopub.status.busy": "2023-11-07T10:35:11.482269Z",
     "iopub.status.idle": "2023-11-07T10:35:11.876345Z",
     "shell.execute_reply": "2023-11-07T10:35:11.875193Z"
    },
    "papermill": {
     "duration": 0.401333,
     "end_time": "2023-11-07T10:35:11.878932",
     "exception": false,
     "start_time": "2023-11-07T10:35:11.477599",
     "status": "completed"
    },
    "tags": []
   },
   "outputs": [],
   "source": [
    "# This Python 3 environment comes with many helpful analytics libraries installed\n",
    "# It is defined by the kaggle/python Docker image: https://github.com/kaggle/docker-python\n",
    "# For example, here's several helpful packages to load\n",
    "\n",
    "import numpy as np # linear algebra\n",
    "import pandas as pd # data processing, CSV file I/O (e.g. pd.read_csv)\n",
    "\n",
    "# Input data files are available in the read-only \"../input/\" directory\n",
    "# For example, running this (by clicking run or pressing Shift+Enter) will list all files under the input directory\n",
    "\n",
    "import os\n",
    "for dirname, _, filenames in os.walk('/kaggle/input'):\n",
    "    \n",
    "    for filename in filenames:\n",
    "        print(os.path.join(dirname, filename))\n",
    "\n",
    "# You can write up to 20GB to the current directory (/kaggle/working/) that gets preserved as output when you create a version using \"Save & Run All\" \n",
    "# You can also write temporary files to /kaggle/temp/, but they won't be saved outside of the current session"
   ]
  },
  {
   "cell_type": "code",
   "execution_count": 2,
   "id": "7eca92d8",
   "metadata": {
    "execution": {
     "iopub.execute_input": "2023-11-07T10:35:11.888315Z",
     "iopub.status.busy": "2023-11-07T10:35:11.887083Z",
     "iopub.status.idle": "2023-11-07T10:35:11.897791Z",
     "shell.execute_reply": "2023-11-07T10:35:11.896620Z"
    },
    "papermill": {
     "duration": 0.020512,
     "end_time": "2023-11-07T10:35:11.902014",
     "exception": false,
     "start_time": "2023-11-07T10:35:11.881502",
     "status": "completed"
    },
    "tags": []
   },
   "outputs": [
    {
     "name": "stdout",
     "output_type": "stream",
     "text": [
      "This is the numpy array [1 2 3 4]\n",
      "\n",
      "This is the panda series 0    1\n",
      "1    2\n",
      "2    3\n",
      "3    4\n",
      "dtype: int64\n"
     ]
    }
   ],
   "source": [
    "\n",
    "#Write a Pandas program to implement following operation\n",
    "#to convert a NumPy array to a Pandas series\n",
    "\n",
    "\n",
    "#Name:Arpita Makwana\n",
    "#Enrollnment No:216270307069\n",
    "\n",
    "a=np.array([1,2,3,4])\n",
    "print(\"This is the numpy array\",a)\n",
    "a= pd.Series([1, 2, 3, 4])\n",
    "print(\"\\nThis is the panda series\",a)\n"
   ]
  },
  {
   "cell_type": "code",
   "execution_count": 3,
   "id": "98bec639",
   "metadata": {
    "execution": {
     "iopub.execute_input": "2023-11-07T10:35:11.908485Z",
     "iopub.status.busy": "2023-11-07T10:35:11.908082Z",
     "iopub.status.idle": "2023-11-07T10:35:11.921255Z",
     "shell.execute_reply": "2023-11-07T10:35:11.919774Z"
    },
    "papermill": {
     "duration": 0.019378,
     "end_time": "2023-11-07T10:35:11.923809",
     "exception": false,
     "start_time": "2023-11-07T10:35:11.904431",
     "status": "completed"
    },
    "tags": []
   },
   "outputs": [
    {
     "name": "stdout",
     "output_type": "stream",
     "text": [
      "0    1\n",
      "1    2\n",
      "2    3\n",
      "3    4\n",
      "Name: A, dtype: int64\n"
     ]
    }
   ],
   "source": [
    "#Write a Pandas program to implement following operation to convert the first column of a DataFrame as a Serie\n",
    "\n",
    "#Name:Arpita Makwana\n",
    "#Enrollnment No:216270307069\n",
    "\n",
    "# Create a sample DataFrame\n",
    "data = {'A': [1, 2, 3, 4],\n",
    "        'B': [5, 6, 7, 8]}\n",
    "\n",
    "df = pd.DataFrame(data)\n",
    "\n",
    "# Extract the first column as a Series\n",
    "firstcolseries = df['A']\n",
    "\n",
    "print(firstcolseries)\n",
    "\n"
   ]
  },
  {
   "cell_type": "code",
   "execution_count": 4,
   "id": "6d1b1211",
   "metadata": {
    "execution": {
     "iopub.execute_input": "2023-11-07T10:35:11.930502Z",
     "iopub.status.busy": "2023-11-07T10:35:11.930130Z",
     "iopub.status.idle": "2023-11-07T10:35:11.939679Z",
     "shell.execute_reply": "2023-11-07T10:35:11.938377Z"
    },
    "papermill": {
     "duration": 0.01593,
     "end_time": "2023-11-07T10:35:11.942303",
     "exception": false,
     "start_time": "2023-11-07T10:35:11.926373",
     "status": "completed"
    },
    "tags": []
   },
   "outputs": [
    {
     "name": "stdout",
     "output_type": "stream",
     "text": [
      "Mean:  3.0\n",
      "Standar Deviation:  1.5811388300841898\n"
     ]
    }
   ],
   "source": [
    "#to create the mean and standard deviation of the data of a given Series\n",
    "\n",
    "#Name:Arpita Makwana\n",
    "#Enrollnment no:216270307069\n",
    "\n",
    "a=pd.Series([1,2,3,4,5])\n",
    "\n",
    "print(\"Mean: \", a.mean())                 \n",
    "print(\"Standar Deviation: \", a.std())     \n",
    "\n"
   ]
  },
  {
   "cell_type": "code",
   "execution_count": 5,
   "id": "58171b56",
   "metadata": {
    "execution": {
     "iopub.execute_input": "2023-11-07T10:35:11.949203Z",
     "iopub.status.busy": "2023-11-07T10:35:11.948818Z",
     "iopub.status.idle": "2023-11-07T10:35:11.960164Z",
     "shell.execute_reply": "2023-11-07T10:35:11.958829Z"
    },
    "papermill": {
     "duration": 0.017814,
     "end_time": "2023-11-07T10:35:11.962730",
     "exception": false,
     "start_time": "2023-11-07T10:35:11.944916",
     "status": "completed"
    },
    "tags": []
   },
   "outputs": [
    {
     "name": "stdout",
     "output_type": "stream",
     "text": [
      "\n",
      " Before series.. 0     1\n",
      "1     5\n",
      "2     6\n",
      "3     3\n",
      "4     8\n",
      "5     0\n",
      "6    10\n",
      "dtype: int64\n",
      "\n",
      " After series..  5     0\n",
      "0     1\n",
      "3     3\n",
      "1     5\n",
      "2     6\n",
      "4     8\n",
      "6    10\n",
      "dtype: int64\n"
     ]
    }
   ],
   "source": [
    " \n",
    "#Name:Arpita Makwana\n",
    "#Enrollnment no:216270307069\n",
    "    \n",
    "s=pd.Series([1,5,6,3,8,0,10])\n",
    "\n",
    "print(\"\\n Before series..\",s)\n",
    "\n",
    "print(\"\\n After series.. \",s.sort_values())\n",
    "\n",
    " "
   ]
  }
 ],
 "metadata": {
  "kernelspec": {
   "display_name": "Python 3",
   "language": "python",
   "name": "python3"
  },
  "language_info": {
   "codemirror_mode": {
    "name": "ipython",
    "version": 3
   },
   "file_extension": ".py",
   "mimetype": "text/x-python",
   "name": "python",
   "nbconvert_exporter": "python",
   "pygments_lexer": "ipython3",
   "version": "3.10.12"
  },
  "papermill": {
   "default_parameters": {},
   "duration": 4.23987,
   "end_time": "2023-11-07T10:35:12.485890",
   "environment_variables": {},
   "exception": null,
   "input_path": "__notebook__.ipynb",
   "output_path": "__notebook__.ipynb",
   "parameters": {},
   "start_time": "2023-11-07T10:35:08.246020",
   "version": "2.4.0"
  }
 },
 "nbformat": 4,
 "nbformat_minor": 5
}
