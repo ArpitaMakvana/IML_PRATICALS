{
 "cells": [
  {
   "cell_type": "code",
   "execution_count": 1,
   "id": "7fff85b9",
   "metadata": {
    "_cell_guid": "b1076dfc-b9ad-4769-8c92-a6c4dae69d19",
    "_uuid": "8f2839f25d086af736a60e9eeb907d3b93b6e0e5",
    "execution": {
     "iopub.execute_input": "2023-11-06T18:14:23.062018Z",
     "iopub.status.busy": "2023-11-06T18:14:23.061535Z",
     "iopub.status.idle": "2023-11-06T18:14:23.945043Z",
     "shell.execute_reply": "2023-11-06T18:14:23.943841Z"
    },
    "papermill": {
     "duration": 0.891797,
     "end_time": "2023-11-06T18:14:23.948186",
     "exception": false,
     "start_time": "2023-11-06T18:14:23.056389",
     "status": "completed"
    },
    "tags": []
   },
   "outputs": [],
   "source": [
    "# This Python 3 environment comes with many helpful analytics libraries installed\n",
    "# It is defined by the kaggle/python Docker image: https://github.com/kaggle/docker-python\n",
    "# For example, here's several helpful packages to load\n",
    "\n",
    "import numpy as np # linear algebra\n",
    "import pandas as pd # data processing, CSV file I/O (e.g. pd.read_csv)\n",
    "\n",
    "# Input data files are available in the read-only \"../input/\" directory\n",
    "# For example, running this (by clicking run or pressing Shift+Enter) will list all files under the input directory\n",
    "\n",
    "import os\n",
    "for dirname, _, filenames in os.walk('/kaggle/input'):\n",
    "    for filename in filenames:\n",
    "        print(os.path.join(dirname, filename))\n",
    "\n",
    "# You can write up to 20GB to the current directory (/kaggle/working/) that gets preserved as output when you create a version using \"Save & Run All\" \n",
    "# You can also write temporary files to /kaggle/temp/, but they won't be saved outside of the current session"
   ]
  },
  {
   "cell_type": "code",
   "execution_count": 2,
   "id": "2a90dc1a",
   "metadata": {
    "execution": {
     "iopub.execute_input": "2023-11-06T18:14:23.958087Z",
     "iopub.status.busy": "2023-11-06T18:14:23.957556Z",
     "iopub.status.idle": "2023-11-06T18:14:23.966194Z",
     "shell.execute_reply": "2023-11-06T18:14:23.965370Z"
    },
    "papermill": {
     "duration": 0.018099,
     "end_time": "2023-11-06T18:14:23.969403",
     "exception": false,
     "start_time": "2023-11-06T18:14:23.951304",
     "status": "completed"
    },
    "tags": []
   },
   "outputs": [
    {
     "name": "stdout",
     "output_type": "stream",
     "text": [
      "original array\n",
      " [ 1  2  3  4  5  6  7  8  9 10 11 12 13 14]\n",
      "split array\n",
      " [array([1, 2]), array([3, 4, 5, 6]), array([ 7,  8,  9, 10, 11, 12, 13, 14])]\n"
     ]
    }
   ],
   "source": [
    "#Name:Makwana Arpita\n",
    "#Enrollnment no:216270307069\n",
    "\n",
    "import numpy as np\n",
    "a=np.array([1,2,3,4,5,6,7,8,9,10,11,12,13,14])\n",
    "print(\"original array\\n\",a)\n",
    "b=np.split(a,[2,6])\n",
    "print(\"split array\\n\",b)"
   ]
  },
  {
   "cell_type": "code",
   "execution_count": 3,
   "id": "1dcd2c6c",
   "metadata": {
    "execution": {
     "iopub.execute_input": "2023-11-06T18:14:23.977284Z",
     "iopub.status.busy": "2023-11-06T18:14:23.976382Z",
     "iopub.status.idle": "2023-11-06T18:14:23.987621Z",
     "shell.execute_reply": "2023-11-06T18:14:23.986085Z"
    },
    "papermill": {
     "duration": 0.018059,
     "end_time": "2023-11-06T18:14:23.990339",
     "exception": false,
     "start_time": "2023-11-06T18:14:23.972280",
     "status": "completed"
    },
    "tags": []
   },
   "outputs": [
    {
     "name": "stdout",
     "output_type": "stream",
     "text": [
      "x: \n",
      " [[ 0.  1.  2.  3.  4.  5.]\n",
      " [ 6.  7.  8.  9. 10. 11.]\n",
      " [12. 13. 14. 15. 16. 17.]\n",
      " [18. 19. 20. 21. 22. 23.]\n",
      " [24. 25. 26. 27. 28. 29.]\n",
      " [30. 31. 32. 33. 34. 35.]]\n",
      "\n",
      "Upper: \n",
      " [[ 0.  1.]\n",
      " [ 6.  7.]\n",
      " [12. 13.]\n",
      " [18. 19.]\n",
      " [24. 25.]\n",
      " [30. 31.]]\n",
      "\n",
      "Lower: \n",
      " [[ 2.  3.  4.  5.]\n",
      " [ 8.  9. 10. 11.]\n",
      " [14. 15. 16. 17.]\n",
      " [20. 21. 22. 23.]\n",
      " [26. 27. 28. 29.]\n",
      " [32. 33. 34. 35.]]\n",
      "\n",
      "Upper: \n",
      " [[ 0.  1.  2.  3.  4.  5.]\n",
      " [ 6.  7.  8.  9. 10. 11.]]\n",
      "\n",
      "Middle: \n",
      " [[12. 13. 14. 15. 16. 17.]]\n",
      "\n",
      "Lower: \n",
      " [[18. 19. 20. 21. 22. 23.]\n",
      " [24. 25. 26. 27. 28. 29.]\n",
      " [30. 31. 32. 33. 34. 35.]]\n"
     ]
    }
   ],
   "source": [
    "#lab-2\n",
    "#write a numpy program to implement following operations\n",
    "#Write a NumPy program to implement following operation\n",
    "# to stack arrays horizontally (column wise\n",
    "#Name:Makwana Arpita\n",
    "#Enrollnment no:216270307069\n",
    "\n",
    "import numpy as np\n",
    "x = np.arange(36, dtype=np.float32).reshape((6,6))\n",
    "print(\"x: \\n\", x)\n",
    "upper, lower = np.hsplit(x, [2])\n",
    "print(\"\\nUpper: \\n\", upper)\n",
    "print(\"\\nLower: \\n\", lower)\n",
    "upper, middle, lower = np.vsplit(x, [2,3])\n",
    "print(\"\\nUpper: \\n\", upper)\n",
    "print(\"\\nMiddle: \\n\", middle)\n",
    "print(\"\\nLower: \\n\", lower) "
   ]
  },
  {
   "cell_type": "code",
   "execution_count": 4,
   "id": "fffeb733",
   "metadata": {
    "execution": {
     "iopub.execute_input": "2023-11-06T18:14:23.998015Z",
     "iopub.status.busy": "2023-11-06T18:14:23.997600Z",
     "iopub.status.idle": "2023-11-06T18:14:24.005405Z",
     "shell.execute_reply": "2023-11-06T18:14:24.004504Z"
    },
    "papermill": {
     "duration": 0.014651,
     "end_time": "2023-11-06T18:14:24.008001",
     "exception": false,
     "start_time": "2023-11-06T18:14:23.993350",
     "status": "completed"
    },
    "tags": []
   },
   "outputs": [
    {
     "name": "stdout",
     "output_type": "stream",
     "text": [
      "Original Array  : \n",
      " [[ 0.  1.  2.  3.  4.]\n",
      " [ 5.  6.  7.  8.  9.]\n",
      " [10. 11. 12. 13. 14.]\n",
      " [15. 16. 17. 18. 19.]\n",
      " [20. 21. 22. 23. 24.]]\n",
      "\n",
      "Left: \n",
      " [[ 0.  1.  2.]\n",
      " [ 5.  6.  7.]\n",
      " [10. 11. 12.]\n",
      " [15. 16. 17.]\n",
      " [20. 21. 22.]]\n",
      "\n",
      "Right: \n",
      " [[ 3.  4.]\n",
      " [ 8.  9.]\n",
      " [13. 14.]\n",
      " [18. 19.]\n",
      " [23. 24.]]\n"
     ]
    }
   ],
   "source": [
    "#Name:Arpita Makwana\n",
    "#Enrollnment no: 216270307069\n",
    "\n",
    "import numpy as np\n",
    "\n",
    "#array using arange\n",
    "array = np.arange(25, dtype=np.float32).reshape((5,5))\n",
    "print(\"Original Array  : \\n\", array)\n",
    "\n",
    "# Horizontally spliting array into 2 parts\n",
    "left, right = np.hsplit(array, [3])\n",
    "print(\"\\nLeft: \\n\", left)\n",
    "print(\"\\nRight: \\n\", right)"
   ]
  },
  {
   "cell_type": "code",
   "execution_count": null,
   "id": "cfacd9db",
   "metadata": {
    "papermill": {
     "duration": 0.002895,
     "end_time": "2023-11-06T18:14:24.014472",
     "exception": false,
     "start_time": "2023-11-06T18:14:24.011577",
     "status": "completed"
    },
    "tags": []
   },
   "outputs": [],
   "source": []
  }
 ],
 "metadata": {
  "kernelspec": {
   "display_name": "Python 3",
   "language": "python",
   "name": "python3"
  },
  "language_info": {
   "codemirror_mode": {
    "name": "ipython",
    "version": 3
   },
   "file_extension": ".py",
   "mimetype": "text/x-python",
   "name": "python",
   "nbconvert_exporter": "python",
   "pygments_lexer": "ipython3",
   "version": "3.10.12"
  },
  "papermill": {
   "default_parameters": {},
   "duration": 5.418683,
   "end_time": "2023-11-06T18:14:24.538224",
   "environment_variables": {},
   "exception": null,
   "input_path": "__notebook__.ipynb",
   "output_path": "__notebook__.ipynb",
   "parameters": {},
   "start_time": "2023-11-06T18:14:19.119541",
   "version": "2.4.0"
  }
 },
 "nbformat": 4,
 "nbformat_minor": 5
}
