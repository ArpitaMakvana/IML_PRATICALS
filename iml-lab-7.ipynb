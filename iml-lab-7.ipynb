{
 "cells": [
  {
   "cell_type": "code",
   "execution_count": 1,
   "id": "6c28de07",
   "metadata": {
    "_cell_guid": "b1076dfc-b9ad-4769-8c92-a6c4dae69d19",
    "_uuid": "8f2839f25d086af736a60e9eeb907d3b93b6e0e5",
    "execution": {
     "iopub.execute_input": "2023-11-07T10:37:29.695364Z",
     "iopub.status.busy": "2023-11-07T10:37:29.694745Z",
     "iopub.status.idle": "2023-11-07T10:37:30.083267Z",
     "shell.execute_reply": "2023-11-07T10:37:30.082065Z"
    },
    "papermill": {
     "duration": 0.396004,
     "end_time": "2023-11-07T10:37:30.085854",
     "exception": false,
     "start_time": "2023-11-07T10:37:29.689850",
     "status": "completed"
    },
    "tags": []
   },
   "outputs": [],
   "source": [
    "# This Python 3 environment comes with many helpful analytics libraries installed\n",
    "# It is defined by the kaggle/python Docker image: https://github.com/kaggle/docker-python\n",
    "# For example, here's several helpful packages to load\n",
    "\n",
    "import numpy as np # linear algebra\n",
    "import pandas as pd # data processing, CSV file I/O (e.g. pd.read_csv)\n",
    "\n",
    "# Input data files are available in the read-only \"../input/\" directory\n",
    "# For example, running this (by clicking run or pressing Shift+Enter) will list all files under the input directory\n",
    "\n",
    "import os\n",
    "for dirname, _, filenames in os.walk('/kaggle/input'):\n",
    "    for filename in filenames:\n",
    "        print(os.path.join(dirname, filename))\n",
    "\n",
    "# You can write up to 20GB to the current directory (/kaggle/working/) that gets preserved as output when you create a version using \"Save & Run All\" \n",
    "# You can also write temporary files to /kaggle/temp/, but they won't be saved outside of the current session"
   ]
  },
  {
   "cell_type": "code",
   "execution_count": 2,
   "id": "2152bc57",
   "metadata": {
    "execution": {
     "iopub.execute_input": "2023-11-07T10:37:30.096175Z",
     "iopub.status.busy": "2023-11-07T10:37:30.095572Z",
     "iopub.status.idle": "2023-11-07T10:37:30.115408Z",
     "shell.execute_reply": "2023-11-07T10:37:30.114278Z"
    },
    "papermill": {
     "duration": 0.029114,
     "end_time": "2023-11-07T10:37:30.118089",
     "exception": false,
     "start_time": "2023-11-07T10:37:30.088975",
     "status": "completed"
    },
    "tags": []
   },
   "outputs": [
    {
     "name": "stdout",
     "output_type": "stream",
     "text": [
      "df:\n",
      "    a   b     c\n",
      "0  1   2   NaN\n",
      "1  5  10  20.0\n"
     ]
    }
   ],
   "source": [
    "#Write a Pandas program to implement following operation\n",
    "#to create a dataframe from a dictionary and display it.\n",
    "\n",
    "#Name:Arpita Makwana\n",
    "#Enrollnment No:216270307069\n",
    "\n",
    "\n",
    "data = [{\"a\": 1, \"b\": 2}, {\"a\": 5, \"b\": 10, \"c\": 20}]\n",
    "df = pd.DataFrame(data)\n",
    "print(\"df:\\n\", df)"
   ]
  },
  {
   "cell_type": "code",
   "execution_count": 3,
   "id": "b36b53b5",
   "metadata": {
    "execution": {
     "iopub.execute_input": "2023-11-07T10:37:30.126214Z",
     "iopub.status.busy": "2023-11-07T10:37:30.124121Z",
     "iopub.status.idle": "2023-11-07T10:37:30.140220Z",
     "shell.execute_reply": "2023-11-07T10:37:30.139039Z"
    },
    "papermill": {
     "duration": 0.021984,
     "end_time": "2023-11-07T10:37:30.142500",
     "exception": false,
     "start_time": "2023-11-07T10:37:30.120516",
     "status": "completed"
    },
    "tags": []
   },
   "outputs": [
    {
     "name": "stdout",
     "output_type": "stream",
     "text": [
      "        Name\n",
      "2      Aabha\n",
      "3     Arpita\n",
      "5      Honey\n",
      "0     Nirali\n",
      "4  Priyanshi\n",
      "1   Vishakha\n"
     ]
    }
   ],
   "source": [
    "#to sort the DataFrame first by 'name' in ascending order.\n",
    "\n",
    "\n",
    "#Name:Arpita Makwana\n",
    "#Enrollnment No:216270307069\n",
    "\n",
    "import pandas as pd\n",
    "\n",
    "# Create a sample DataFrame\n",
    "data = pd.DataFrame({\n",
    "    'Name': ['Nirali', 'Vishakha', 'Aabha', 'Arpita','Priyanshi','Honey']})\n",
    "\n",
    "# Sort the DataFrame by the 'Name' column in ascending order\n",
    "sorted_data = data.sort_values(by='Name')\n",
    "\n",
    "\n",
    "print(sorted_data)\n",
    "\n"
   ]
  },
  {
   "cell_type": "code",
   "execution_count": 4,
   "id": "ad71b8b6",
   "metadata": {
    "execution": {
     "iopub.execute_input": "2023-11-07T10:37:30.148485Z",
     "iopub.status.busy": "2023-11-07T10:37:30.148170Z",
     "iopub.status.idle": "2023-11-07T10:37:30.166617Z",
     "shell.execute_reply": "2023-11-07T10:37:30.165296Z"
    },
    "papermill": {
     "duration": 0.02398,
     "end_time": "2023-11-07T10:37:30.168897",
     "exception": false,
     "start_time": "2023-11-07T10:37:30.144917",
     "status": "completed"
    },
    "tags": []
   },
   "outputs": [
    {
     "name": "stdout",
     "output_type": "stream",
     "text": [
      "This is the first method to delete the coulmn in series using drop \n",
      "     Name  Age\n",
      "0   Aabha   25\n",
      "1   Honey   30\n",
      "2  Nirali   22\n",
      "\n",
      "This is the second method to delete the column in series using del \n",
      "     Name  Age\n",
      "0   Aabha   25\n",
      "1   Honey   30\n",
      "2  Nirali   22\n"
     ]
    }
   ],
   "source": [
    "'''to delete the one specific column from the DataFrame\n",
    "\n",
    "Name:Arpita Makwana\n",
    "Enrollnment No:216270307069'''\n",
    "\n",
    "\n",
    "import pandas as pd\n",
    "# Create a sample DataFrame\n",
    "data = pd.DataFrame({\n",
    "    'Name': ['Aabha','Honey','Nirali'],\n",
    "    'Age': [25, 30, 22],\n",
    "    'Salary': [50000, 60000, 55000]\n",
    "})\n",
    "print(\"This is the first method to delete the coulmn in series using drop \")\n",
    "\n",
    "data_without_salary = data.drop('Salary', axis=1)\n",
    "\n",
    "# The original DataFrame 'data' remains unchanged\n",
    "print(data_without_salary)\n",
    "\n",
    "\n",
    "print(\"\\nThis is the second method to delete the column in series using del \")\n",
    "del data['Salary']\n",
    "print(data)"
   ]
  },
  {
   "cell_type": "code",
   "execution_count": 5,
   "id": "26215d3a",
   "metadata": {
    "execution": {
     "iopub.execute_input": "2023-11-07T10:37:30.175398Z",
     "iopub.status.busy": "2023-11-07T10:37:30.175030Z",
     "iopub.status.idle": "2023-11-07T10:37:30.185919Z",
     "shell.execute_reply": "2023-11-07T10:37:30.185099Z"
    },
    "papermill": {
     "duration": 0.016681,
     "end_time": "2023-11-07T10:37:30.188067",
     "exception": false,
     "start_time": "2023-11-07T10:37:30.171386",
     "status": "completed"
    },
    "tags": []
   },
   "outputs": [
    {
     "name": "stdout",
     "output_type": "stream",
     "text": [
      "output_data.csv\n"
     ]
    }
   ],
   "source": [
    "#to write a DataFrame to CSV file using tab separator\n",
    "\n",
    "\n",
    "#Name:Arpita Makwana\n",
    "#Enrollnment No:216270307069\n",
    "\n",
    "import numpy as np\n",
    "import pandas as pd\n",
    "\n",
    "# Create a sample DataFrame\n",
    "data = pd.DataFrame({\n",
    "    'Name': ['Anjali', 'Babita', 'Daya'],\n",
    "    'Age': [25, 30, 22],\n",
    "    'Salary': [50000, 60000, 55000]\n",
    "})\n",
    "\n",
    "file_path = 'output_data.csv'\n",
    "data.to_csv(file_path, sep='\\t', index=False)\n",
    "print(file_path)\n",
    "\n",
    "\n"
   ]
  }
 ],
 "metadata": {
  "kernelspec": {
   "display_name": "Python 3",
   "language": "python",
   "name": "python3"
  },
  "language_info": {
   "codemirror_mode": {
    "name": "ipython",
    "version": 3
   },
   "file_extension": ".py",
   "mimetype": "text/x-python",
   "name": "python",
   "nbconvert_exporter": "python",
   "pygments_lexer": "ipython3",
   "version": "3.10.12"
  },
  "papermill": {
   "default_parameters": {},
   "duration": 4.131106,
   "end_time": "2023-11-07T10:37:30.609831",
   "environment_variables": {},
   "exception": null,
   "input_path": "__notebook__.ipynb",
   "output_path": "__notebook__.ipynb",
   "parameters": {},
   "start_time": "2023-11-07T10:37:26.478725",
   "version": "2.4.0"
  }
 },
 "nbformat": 4,
 "nbformat_minor": 5
}
