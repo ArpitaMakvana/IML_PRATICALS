{
 "cells": [
  {
   "cell_type": "code",
   "execution_count": 1,
   "id": "cff32c00",
   "metadata": {
    "_cell_guid": "b1076dfc-b9ad-4769-8c92-a6c4dae69d19",
    "_uuid": "8f2839f25d086af736a60e9eeb907d3b93b6e0e5",
    "execution": {
     "iopub.execute_input": "2023-11-07T10:31:06.314240Z",
     "iopub.status.busy": "2023-11-07T10:31:06.313535Z",
     "iopub.status.idle": "2023-11-07T10:31:06.627345Z",
     "shell.execute_reply": "2023-11-07T10:31:06.625949Z"
    },
    "papermill": {
     "duration": 0.321092,
     "end_time": "2023-11-07T10:31:06.630125",
     "exception": false,
     "start_time": "2023-11-07T10:31:06.309033",
     "status": "completed"
    },
    "tags": []
   },
   "outputs": [],
   "source": [
    "# This Python 3 environment comes with many helpful analytics libraries installed\n",
    "# It is defined by the kaggle/python Docker image: https://github.com/kaggle/docker-python\n",
    "# For example, here's several helpful packages to load\n",
    "\n",
    "import numpy as np # linear algebra\n",
    "import pandas as pd # data processing, CSV file I/O (e.g. pd.read_csv)\n",
    "\n",
    "# Input data files are available in the read-only \"../input/\" directory\n",
    "# For example, running this (by clicking run or pressing Shift+Enter) will list all files under the input directory\n",
    "\n",
    "import os\n",
    "for dirname, _, filenames in os.walk('/kaggle/input'):\n",
    "    for filename in filenames:\n",
    "        print(os.path.join(dirname, filename))\n",
    "\n",
    "# You can write up to 20GB to the current directory (/kaggle/working/) that gets preserved as output when you create a version using \"Save & Run All\" \n",
    "# You can also write temporary files to /kaggle/temp/, but they won't be saved outside of the current session"
   ]
  },
  {
   "cell_type": "code",
   "execution_count": 2,
   "id": "afb94fd0",
   "metadata": {
    "execution": {
     "iopub.execute_input": "2023-11-07T10:31:06.637587Z",
     "iopub.status.busy": "2023-11-07T10:31:06.637137Z",
     "iopub.status.idle": "2023-11-07T10:31:06.646150Z",
     "shell.execute_reply": "2023-11-07T10:31:06.645144Z"
    },
    "papermill": {
     "duration": 0.018,
     "end_time": "2023-11-07T10:31:06.650257",
     "exception": false,
     "start_time": "2023-11-07T10:31:06.632257",
     "status": "completed"
    },
    "tags": []
   },
   "outputs": [
    {
     "name": "stdout",
     "output_type": "stream",
     "text": [
      "Flattened Array (in 'F' order): [4 9 8 2 5 6 7 1 3]\n",
      "Maximum Value: 9\n",
      "Minimum Value: 1\n"
     ]
    }
   ],
   "source": [
    "\n",
    "\n",
    "#Name:Arpita Makwana\n",
    "#Enrolment no: 216270307069\n",
    "\n",
    "# Create a sample 2D array\n",
    "original_array = np.array([[4, 2, 7],\n",
    "                           [9, 5, 1],\n",
    "                           [8, 6, 3]])\n",
    "\n",
    "# Flatten the array in 'F' order\n",
    "flattened_array = original_array.flatten(order='F')\n",
    "\n",
    "# Find the maximum and minimum values in the flattened array\n",
    "max_value = np.max(flattened_array)\n",
    "min_value = np.min(flattened_array)\n",
    "\n",
    "# Print the results\n",
    "print(\"Flattened Array (in 'F' order):\", flattened_array)\n",
    "print(\"Maximum Value:\", max_value)\n",
    "print(\"Minimum Value:\", min_value)\n"
   ]
  },
  {
   "cell_type": "code",
   "execution_count": 3,
   "id": "842bb8a4",
   "metadata": {
    "execution": {
     "iopub.execute_input": "2023-11-07T10:31:06.655917Z",
     "iopub.status.busy": "2023-11-07T10:31:06.655533Z",
     "iopub.status.idle": "2023-11-07T10:31:06.666334Z",
     "shell.execute_reply": "2023-11-07T10:31:06.664997Z"
    },
    "papermill": {
     "duration": 0.016,
     "end_time": "2023-11-07T10:31:06.668332",
     "exception": false,
     "start_time": "2023-11-07T10:31:06.652332",
     "status": "completed"
    },
    "tags": []
   },
   "outputs": [
    {
     "name": "stdout",
     "output_type": "stream",
     "text": [
      "a:\n",
      " [[1 2]\n",
      " [3 4]]\n",
      "Mean of a along axis=1:  [1.5 3.5]\n",
      "a: \n",
      " [[ 0  1  2  3]\n",
      " [ 4  5  6  7]\n",
      " [ 8  9 10 11]]\n",
      "Standard Deviation along axis=1: \n",
      " [1.11803399 1.11803399 1.11803399]\n",
      "Variance along axis=1: \n",
      " [16.22222222 14.88888889  9.55555556 22.22222222]\n"
     ]
    }
   ],
   "source": [
    "#to compute the mean, standard deviation, and variance of a given \n",
    "#array along the second axis\n",
    "\n",
    "#Name:Arpita Makwana\n",
    "#Enrollnment no:216270307069\n",
    "\n",
    "#Mean\n",
    "a = np.array([[1, 2], [3, 4]])\n",
    "print(\"a:\\n\", a)\n",
    "print(\"Mean of a along axis=1: \", np.mean(a, axis=1))\n",
    "\n",
    "#standar Deviation\n",
    "a = np.arange(12).reshape(3, 4)\n",
    "print(\"a: \\n\", a)\n",
    "print(\"Standard Deviation along axis=1: \\n\", np.std(a, axis=1))\n",
    "\n",
    "#variance\n",
    "a = np.random.randint(0, 12, (4, 3))\n",
    "print(\"Variance along axis=1: \\n\", np.var(a, axis=1))\n",
    "\n"
   ]
  },
  {
   "cell_type": "code",
   "execution_count": 4,
   "id": "36e8c4d6",
   "metadata": {
    "execution": {
     "iopub.execute_input": "2023-11-07T10:31:06.674747Z",
     "iopub.status.busy": "2023-11-07T10:31:06.673816Z",
     "iopub.status.idle": "2023-11-07T10:31:06.679794Z",
     "shell.execute_reply": "2023-11-07T10:31:06.678735Z"
    },
    "papermill": {
     "duration": 0.011705,
     "end_time": "2023-11-07T10:31:06.682280",
     "exception": false,
     "start_time": "2023-11-07T10:31:06.670575",
     "status": "completed"
    },
    "tags": []
   },
   "outputs": [
    {
     "name": "stdout",
     "output_type": "stream",
     "text": [
      "a: \n",
      " [[ 0  1  2  3]\n",
      " [ 4  5  6  7]\n",
      " [ 8  9 10 11]]\n",
      "Standard Deviation along axis=1: \n",
      " [1.11803399 1.11803399 1.11803399]\n"
     ]
    }
   ],
   "source": [
    "a = np.arange(12).reshape(3, 4)\n",
    "print(\"a: \\n\", a)\n",
    "print(\"Standard Deviation along axis=1: \\n\", np.std(a, axis=1))"
   ]
  },
  {
   "cell_type": "code",
   "execution_count": 5,
   "id": "5f271f54",
   "metadata": {
    "execution": {
     "iopub.execute_input": "2023-11-07T10:31:06.689770Z",
     "iopub.status.busy": "2023-11-07T10:31:06.689387Z",
     "iopub.status.idle": "2023-11-07T10:31:06.694854Z",
     "shell.execute_reply": "2023-11-07T10:31:06.693982Z"
    },
    "papermill": {
     "duration": 0.011107,
     "end_time": "2023-11-07T10:31:06.696947",
     "exception": false,
     "start_time": "2023-11-07T10:31:06.685840",
     "status": "completed"
    },
    "tags": []
   },
   "outputs": [
    {
     "name": "stdout",
     "output_type": "stream",
     "text": [
      "Variance along axis=1: \n",
      " [8.         4.22222222 6.22222222 8.22222222]\n"
     ]
    }
   ],
   "source": [
    "a = np.random.randint(0, 12, (4, 3))\n",
    "\n",
    "print(\"Variance along axis=1: \\n\", np.var(a, axis=1))"
   ]
  }
 ],
 "metadata": {
  "kernelspec": {
   "display_name": "Python 3",
   "language": "python",
   "name": "python3"
  },
  "language_info": {
   "codemirror_mode": {
    "name": "ipython",
    "version": 3
   },
   "file_extension": ".py",
   "mimetype": "text/x-python",
   "name": "python",
   "nbconvert_exporter": "python",
   "pygments_lexer": "ipython3",
   "version": "3.10.12"
  },
  "papermill": {
   "default_parameters": {},
   "duration": 6.12595,
   "end_time": "2023-11-07T10:31:09.687338",
   "environment_variables": {},
   "exception": null,
   "input_path": "__notebook__.ipynb",
   "output_path": "__notebook__.ipynb",
   "parameters": {},
   "start_time": "2023-11-07T10:31:03.561388",
   "version": "2.4.0"
  }
 },
 "nbformat": 4,
 "nbformat_minor": 5
}
