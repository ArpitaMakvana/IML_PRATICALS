{
 "cells": [
  {
   "cell_type": "code",
   "execution_count": 1,
   "id": "51150746",
   "metadata": {
    "_cell_guid": "b1076dfc-b9ad-4769-8c92-a6c4dae69d19",
    "_uuid": "8f2839f25d086af736a60e9eeb907d3b93b6e0e5",
    "execution": {
     "iopub.execute_input": "2023-11-06T18:18:48.745996Z",
     "iopub.status.busy": "2023-11-06T18:18:48.745688Z",
     "iopub.status.idle": "2023-11-06T18:18:49.009099Z",
     "shell.execute_reply": "2023-11-06T18:18:49.008152Z"
    },
    "papermill": {
     "duration": 0.269677,
     "end_time": "2023-11-06T18:18:49.011177",
     "exception": false,
     "start_time": "2023-11-06T18:18:48.741500",
     "status": "completed"
    },
    "tags": []
   },
   "outputs": [],
   "source": [
    "# This Python 3 environment comes with many helpful analytics libraries installed\n",
    "# It is defined by the kaggle/python Docker image: https://github.com/kaggle/docker-python\n",
    "# For example, here's several helpful packages to load\n",
    "\n",
    "import numpy as np # linear algebra\n",
    "import pandas as pd # data processing, CSV file I/O (e.g. pd.read_csv)\n",
    "\n",
    "# Input data files are available in the read-only \"../input/\" directory\n",
    "# For example, running this (by clicking run or pressing Shift+Enter) will list all files under the input directory\n",
    "\n",
    "import os\n",
    "for dirname, _, filenames in os.walk('/kaggle/input'):\n",
    "    for filename in filenames:\n",
    "        print(os.path.join(dirname, filename))\n",
    "\n",
    "# You can write up to 20GB to the current directory (/kaggle/working/) that gets preserved as output when you create a version using \"Save & Run All\" \n",
    "# You can also write temporary files to /kaggle/temp/, but they won't be saved outside of the current session"
   ]
  },
  {
   "cell_type": "code",
   "execution_count": 2,
   "id": "7ea93d51",
   "metadata": {
    "execution": {
     "iopub.execute_input": "2023-11-06T18:18:49.017876Z",
     "iopub.status.busy": "2023-11-06T18:18:49.017541Z",
     "iopub.status.idle": "2023-11-06T18:18:49.029029Z",
     "shell.execute_reply": "2023-11-06T18:18:49.028170Z"
    },
    "papermill": {
     "duration": 0.017131,
     "end_time": "2023-11-06T18:18:49.030590",
     "exception": false,
     "start_time": "2023-11-06T18:18:49.013459",
     "status": "completed"
    },
    "tags": []
   },
   "outputs": [
    {
     "name": "stdout",
     "output_type": "stream",
     "text": [
      "\n",
      "simple method and using operator\n",
      "x = [0 1 2 3 4]\n",
      "x + 5 = [5 6 7 8 9]\n",
      "x - 5 = [-5 -4 -3 -2 -1]\n",
      "x * 2 = [0 2 4 6 8]\n",
      "x / 2 = [0.  0.5 1.  1.5 2. ]\n",
      "x // 2 = [0 0 1 1 2]\n",
      "\n",
      "universal method to implent above defination\n",
      "\n",
      "np.add(3, 2): 5\n",
      "\n",
      "x: \n",
      " [0 1 2 3 4 5]\n",
      "\n",
      "np.add(x, 2):\n",
      " [2 3 4 5 6 7]\n",
      "\n",
      "np.subtract(x, 5):\n",
      " [-5 -4 -3 -2 -1  0]\n",
      "\n",
      "(np.negative(x):\n",
      " [ 0 -1 -2 -3 -4 -5]\n",
      "\n",
      "np.multiply(x, 3):\n",
      " [ 0  3  6  9 12 15]\n",
      "\n",
      "np.divide(x, 2):\n",
      " [0.  0.5 1.  1.5 2.  2.5]\n",
      "\n",
      "np.floor_divide(x, 2):\n",
      " [0 0 1 1 2 2]\n"
     ]
    }
   ],
   "source": [
    "\n",
    "# Write a NumPy program to implement following operation:\n",
    "# 1.to add, subtract, multiply, divide arguments element-wise.\n",
    "\n",
    "# Name:Arpita Makwana\n",
    "#Enrolment no.216270307069\n",
    "\n",
    "#This is the first method to implement add,sub,multiply,divide using operator\n",
    "print(\"\\nsimple method and using operator\")\n",
    "x = np.arange(5)\n",
    "print(\"x =\", x)\n",
    "print(\"x + 5 =\", x + 5)     #addication\n",
    "print(\"x - 5 =\", x - 5)     #subtracation\n",
    "print(\"x * 2 =\", x * 2)     #multiplication\n",
    "print(\"x / 2 =\", x / 2)      #division\n",
    "print(\"x // 2 =\", x // 2)    # floor division\n",
    "\n",
    "\n",
    "#This is the second method to  implement add,sub,multiply,divide using universal function\n",
    "print(\"\\nuniversal method to implent above defination\")\n",
    "print(\"\\nnp.add(3, 2):\", np.add(3, 2))\n",
    "\n",
    "x = np.arange(6)\n",
    "print(\"\\nx: \\n\", x)\n",
    "print(\"\\nnp.add(x, 2):\\n\", np.add(x, 2))                    # Addition +\n",
    "print(\"\\nnp.subtract(x, 5):\\n\", np.subtract(x, 5))          # Subtraction -\n",
    "print(\"\\n(np.negative(x):\\n\", np.negative(x))              # Unary negation -\n",
    "print(\"\\nnp.multiply(x, 3):\\n\", np.multiply(x, 3))          # Multiplication *\n",
    "print(\"\\nnp.divide(x, 2):\\n\", np.divide(x, 2))              # Division /\n",
    "print(\"\\nnp.floor_divide(x, 2):\\n\", np.floor_divide(x, 2))   # Floor division //\n"
   ]
  },
  {
   "cell_type": "code",
   "execution_count": 3,
   "id": "b4e9ff0b",
   "metadata": {
    "execution": {
     "iopub.execute_input": "2023-11-06T18:18:49.035741Z",
     "iopub.status.busy": "2023-11-06T18:18:49.035307Z",
     "iopub.status.idle": "2023-11-06T18:18:49.042224Z",
     "shell.execute_reply": "2023-11-06T18:18:49.041483Z"
    },
    "papermill": {
     "duration": 0.011236,
     "end_time": "2023-11-06T18:18:49.043844",
     "exception": false,
     "start_time": "2023-11-06T18:18:49.032608",
     "status": "completed"
    },
    "tags": []
   },
   "outputs": [
    {
     "data": {
      "text/plain": [
       "array([0., 2., 2., 4., 5., 5., 6., 8.])"
      ]
     },
     "execution_count": 3,
     "metadata": {},
     "output_type": "execute_result"
    }
   ],
   "source": [
    "#to round elements of the array to the nearest integer\n",
    "# Name:Arpita Makwana\n",
    "#Enrolment no: 216270307069\n",
    "\n",
    "np.round([.5, 1.5, 2.5, 3.5, 4.6, 5.4, 6.5, 7.8])\n",
    "np.around([.5, 1.5, 2.5, 3.5, 4.6, 5.4, 6.5, 7.8])           \n",
    "np.rint([.5, 1.5, 2.5, 3.5, 4.6, 5.4, 6.5, 7.8]) \n",
    "\n",
    "\n"
   ]
  },
  {
   "cell_type": "code",
   "execution_count": 4,
   "id": "0e0d2af4",
   "metadata": {
    "execution": {
     "iopub.execute_input": "2023-11-06T18:18:49.048785Z",
     "iopub.status.busy": "2023-11-06T18:18:49.048575Z",
     "iopub.status.idle": "2023-11-06T18:18:49.053810Z",
     "shell.execute_reply": "2023-11-06T18:18:49.053014Z"
    },
    "papermill": {
     "duration": 0.009716,
     "end_time": "2023-11-06T18:18:49.055617",
     "exception": false,
     "start_time": "2023-11-06T18:18:49.045901",
     "status": "completed"
    },
    "tags": []
   },
   "outputs": [
    {
     "name": "stdout",
     "output_type": "stream",
     "text": [
      "a:\n",
      " [[3 4]\n",
      " [4 8]]\n",
      "Mean of a:  4.75\n",
      "Mean of a along axis=0:  [3.5 6. ]\n",
      "Mean of a along axis=1:  [3.5 6. ]\n"
     ]
    }
   ],
   "source": [
    "#to calculate mean across dimension, in a 2D numpy array\n",
    "\n",
    "# Name:Arpita Makwana\n",
    "#Enrolment no.216270307069\n",
    "\n",
    "a = np.array([[3, 4], [4, 8]])\n",
    "print(\"a:\\n\", a)\n",
    "print(\"Mean of a: \", np.mean(a))\n",
    "print(\"Mean of a along axis=0: \", np.mean(a, axis=0))\n",
    "print(\"Mean of a along axis=1: \", np.mean(a, axis=1))"
   ]
  },
  {
   "cell_type": "code",
   "execution_count": 5,
   "id": "b5fa369f",
   "metadata": {
    "execution": {
     "iopub.execute_input": "2023-11-06T18:18:49.060666Z",
     "iopub.status.busy": "2023-11-06T18:18:49.060402Z",
     "iopub.status.idle": "2023-11-06T18:18:49.066621Z",
     "shell.execute_reply": "2023-11-06T18:18:49.065518Z"
    },
    "papermill": {
     "duration": 0.011096,
     "end_time": "2023-11-06T18:18:49.068788",
     "exception": false,
     "start_time": "2023-11-06T18:18:49.057692",
     "status": "completed"
    },
    "tags": []
   },
   "outputs": [
    {
     "name": "stdout",
     "output_type": "stream",
     "text": [
      "[[2 3 4]\n",
      " [5 1 2]]\n",
      "[[ 4  1  2]\n",
      " [ 1  2 -8]]\n"
     ]
    }
   ],
   "source": [
    "#to calculate the difference between neighboring elements, element\u0002wise of a given array\n",
    "\n",
    "# Name:Arpita Makwana\n",
    "#Enrolment no.216270307069\n",
    "\n",
    "x = np.array([[1, 3, 6, 10], [0, 5, 6, 8]])\n",
    "print(np.diff(x),)\n",
    "\n",
    "y=np.array([[4,8,9,11],[12,13,15,7]])\n",
    "\n",
    "print(np.diff(y))"
   ]
  },
  {
   "cell_type": "code",
   "execution_count": 6,
   "id": "01dafe00",
   "metadata": {
    "execution": {
     "iopub.execute_input": "2023-11-06T18:18:49.075049Z",
     "iopub.status.busy": "2023-11-06T18:18:49.074742Z",
     "iopub.status.idle": "2023-11-06T18:18:49.080973Z",
     "shell.execute_reply": "2023-11-06T18:18:49.079935Z"
    },
    "papermill": {
     "duration": 0.011274,
     "end_time": "2023-11-06T18:18:49.082634",
     "exception": false,
     "start_time": "2023-11-06T18:18:49.071360",
     "status": "completed"
    },
    "tags": []
   },
   "outputs": [
    {
     "data": {
      "text/plain": [
       "array([ 1,  2,  3, -7])"
      ]
     },
     "execution_count": 6,
     "metadata": {},
     "output_type": "execute_result"
    }
   ],
   "source": [
    "x = np.array([1, 2, 4, 7, 0])\n",
    "np.ediff1d(x)"
   ]
  }
 ],
 "metadata": {
  "kernelspec": {
   "display_name": "Python 3",
   "language": "python",
   "name": "python3"
  },
  "language_info": {
   "codemirror_mode": {
    "name": "ipython",
    "version": 3
   },
   "file_extension": ".py",
   "mimetype": "text/x-python",
   "name": "python",
   "nbconvert_exporter": "python",
   "pygments_lexer": "ipython3",
   "version": "3.10.12"
  },
  "papermill": {
   "default_parameters": {},
   "duration": 3.147501,
   "end_time": "2023-11-06T18:18:49.402553",
   "environment_variables": {},
   "exception": null,
   "input_path": "__notebook__.ipynb",
   "output_path": "__notebook__.ipynb",
   "parameters": {},
   "start_time": "2023-11-06T18:18:46.255052",
   "version": "2.4.0"
  }
 },
 "nbformat": 4,
 "nbformat_minor": 5
}
